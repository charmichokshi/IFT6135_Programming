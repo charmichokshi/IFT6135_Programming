{
  "cells": [
    {
      "cell_type": "markdown",
      "metadata": {
        "id": "zCwYnOWI0K5G"
      },
      "source": [
        "# Genetics Application\n",
        "\n",
        "For this set of questions, we will explore the use of Convolutional Neural Networks to solve a problem with Biological significance (don't worry, no background knowledge is expected). Every cell in your body contains Deoxyribonucleic acid (DNA), which is essentially the instructions for making all the proteins in your body. DNA can be thought of as a very long string where the alphabet is \\{A,C,T,G\\}.\n",
        "The physical attributes of the DNA string and its characters are not important here, except that ~98% of our DNA is physically inaccessible to external molecules. Understanding which regions of DNA are accessible and why is of great interest to scientists. This motivates learning predictive models which could accurately classify such regions. In particular, we will be implementing the deep network called [Basset](https://pubmed.ncbi.nlm.nih.gov/27197224/).\n"
      ]
    },
    {
      "cell_type": "code",
      "execution_count": 1,
      "metadata": {
        "colab": {
          "base_uri": "https://localhost:8080/"
        },
        "id": "BB1odRcEQdHp",
        "outputId": "da066f6a-e423-4854-eabc-5a1ac029537d"
      },
      "outputs": [
        {
          "output_type": "stream",
          "name": "stdout",
          "text": [
            "Mounted at /content/gdrive\n"
          ]
        }
      ],
      "source": [
        "#@title Mount your Google Drive\n",
        "%matplotlib inline\n",
        "%load_ext autoreload\n",
        "%autoreload 2\n",
        "\n",
        "from google.colab import drive\n",
        "drive.mount('/content/gdrive')"
      ]
    },
    {
      "cell_type": "code",
      "execution_count": 2,
      "metadata": {
        "id": "Pml4PO8l0YWk",
        "colab": {
          "base_uri": "https://localhost:8080/"
        },
        "outputId": "69eb93fe-f9ef-4ed0-e225-2ced619eb918"
      },
      "outputs": [
        {
          "output_type": "stream",
          "name": "stdout",
          "text": [
            "\u001b[K     |████████████████████████████████| 2.9 MB 5.8 MB/s \n",
            "\u001b[?25h  Building wheel for h5df (setup.py) ... \u001b[?25l\u001b[?25hdone\n",
            "\u001b[31mERROR: pip's dependency resolver does not currently take into account all the packages that are installed. This behaviour is the source of the following dependency conflicts.\n",
            "tensorflow 2.8.0 requires tf-estimator-nightly==2.8.0.dev2021122109, which is not installed.\u001b[0m\n"
          ]
        }
      ],
      "source": [
        "#@title Link your assignment folder & install requirements\n",
        "#@markdown Enter the path to the assignment folder in your Google Drive\n",
        "import sys\n",
        "import os\n",
        "import shutil\n",
        "import warnings\n",
        "\n",
        "folder = \"/content/gdrive/MyDrive/assignment_6135/assignment1\" #@param {type:\"string\"}\n",
        "!ln -Ts $folder /content/A1 2> /dev/null\n",
        "\n",
        "# Add the assignment folder to Python path\n",
        "if '/content/A1' not in sys.path:\n",
        "    sys.path.insert(0, '/content/A1')\n",
        "\n",
        "# Install requirements\n",
        "!pip install -qr /content/A1/requirements.txt\n",
        "\n",
        "# Check if CUDA is available\n",
        "import torch\n",
        "if not torch.cuda.is_available():\n",
        "    warnings.warn('CUDA is not available.')"
      ]
    },
    {
      "cell_type": "code",
      "execution_count": 3,
      "metadata": {
        "id": "dtoPVSqz48lX"
      },
      "outputs": [],
      "source": [
        "# unzip data\n",
        "if not os.path.exists('/content/A1/er.h5'):\n",
        "    os.system('unzip /content/A1/er.zip')\n",
        "    os.system('mv /content/er.h5 /content/A1/er.h5')"
      ]
    },
    {
      "cell_type": "markdown",
      "metadata": {
        "id": "vzCmch4U1nn7"
      },
      "source": [
        "## Running on GPU\n",
        "In Google Colab, you can run your code on GPU. This will be particularly important in CNN part of the assignment. To make sure the notebook is running on GPU, you can change the notebook settings with\n",
        "* (EN) `Edit > Notebook Settings`\n",
        "* (FR) `Modifier > Paramètres du notebook`\n",
        "\n",
        "Be mindful not to use the GPU if your code does not need to run on GPU."
      ]
    },
    {
      "cell_type": "code",
      "execution_count": 4,
      "metadata": {
        "id": "sdRulajo1yNM"
      },
      "outputs": [],
      "source": [
        "import random\n",
        "\n",
        "import numpy as np\n",
        "import h5py\n",
        "from torch.utils.data import Dataset, DataLoader\n",
        "import torch.optim as optim\n",
        "\n",
        "import solution"
      ]
    },
    {
      "cell_type": "code",
      "execution_count": 5,
      "metadata": {
        "id": "S1Fl3O998HzR"
      },
      "outputs": [],
      "source": [
        "# The hyperparameters we will use\n",
        "batch_size = 64\n",
        "learning_rate = 0.002"
      ]
    },
    {
      "cell_type": "code",
      "execution_count": 6,
      "metadata": {
        "id": "FJhundfW8OAK"
      },
      "outputs": [],
      "source": [
        "device = torch.device(\"cuda\" if torch.cuda.is_available() else \"cpu\")\n",
        "\n",
        "# set RNG\n",
        "seed = 42\n",
        "torch.backends.cudnn.deterministic = True\n",
        "torch.manual_seed(seed)\n",
        "np.random.seed(seed)\n",
        "random.seed(seed)\n",
        "if device.type=='cuda':\n",
        "    torch.cuda.manual_seed(seed)\n",
        "    torch.cuda.manual_seed_all(seed)"
      ]
    },
    {
      "cell_type": "markdown",
      "metadata": {
        "id": "Dzm7-Yyk7X8z"
      },
      "source": [
        "Let's build the dataset that we will be using. Before doing any machine learning, you should always inspect the data you will be using (especially when that data is uncommon)!\n",
        "\n",
        "In our case, the input data are subsequences of DNA that come from the reference human genome HG19. HG19 can be thought of as the DNA of a prototypical human (but it does not come from any single person).\n",
        "The input data is one-hot encoded, such that:\n",
        "\n",
        "$$A = \\begin{pmatrix} 1 \\\\ 0 \\\\ 0 \\\\ 0 \\end{pmatrix}, C = \\begin{pmatrix} 0 \\\\ 1 \\\\ 0 \\\\ 0 \\end{pmatrix}, G = \\begin{pmatrix} 0 \\\\ 0 \\\\ 1 \\\\ 0 \\end{pmatrix}, T = \\begin{pmatrix} 0 \\\\ 0 \\\\ 0 \\\\ 1 \\end{pmatrix}$$\n",
        "\n",
        "Each base-pair $\\{A,C,G,T\\}$ are concatenated along the length of the sequence. Each data point is equivalent to an image with a rectangular shape (sequence length, 4) and a single channel for data processing purposes.\n",
        "\n",
        "The target data for our sequence are binary strings encoded as $1$ if the DNA subsequence is accessible and $0$ if it is not. This data was collected across experiments. For each sample, the target is a vector of size 164, with $1$s in the indices of the experiments where the DNA is accessible and $0$ otherwise."
      ]
    },
    {
      "cell_type": "markdown",
      "metadata": {
        "id": "Grtc4oi6_3e_"
      },
      "source": [
        "# **Question 1 (Understanding the Data)** \n",
        "(10 points). You will notice that PyTorch is very object-oriented -- everything you use is the subclass of a PyTorch class. For datasets, we subclass `torch.utils.data.Dataset`.\n",
        "\n",
        "1. Define the `__getitem__` and `__len__` methods for the `BassetDataset` class in `solution.py`\n",
        "2. What is the length of each sequence we will feed into our model?  Make the `get_seq_len` method of the `BassetDataset` class to return it.\n",
        "3. Is it true that each data point is also equivalent to an image with a rectangular shape (1, sequence length) with 4 channels? Write the method `is_equvalent` to return your answer (either return True or False).\n",
        "\n",
        "Note: this data has already been pre-processed, so do not include any additional data transformations!"
      ]
    },
    {
      "cell_type": "code",
      "execution_count": 7,
      "metadata": {
        "id": "mDmrenF07TwY"
      },
      "outputs": [],
      "source": [
        "# investigate your data\n",
        "f = h5py.File('/content/A1/er.h5', 'r')\n",
        "f.keys()\n",
        "f.close()"
      ]
    },
    {
      "cell_type": "code",
      "execution_count": 8,
      "metadata": {
        "id": "v2P1XHMAMZD4"
      },
      "outputs": [],
      "source": [
        "basset_dataset_train = solution.BassetDataset(path='/content/A1', f5name='er.h5', split='train')\n",
        "basset_dataset_valid = solution.BassetDataset(path='/content/A1', f5name='er.h5', split='valid')\n",
        "basset_dataset_test = solution.BassetDataset(path='/content/A1', f5name='er.h5', split='test')\n",
        "basset_dataloader_train = DataLoader(basset_dataset_train,\n",
        "                                     batch_size=batch_size,\n",
        "                                     drop_last=True,\n",
        "                                     shuffle=True,\n",
        "                                     num_workers=1)\n",
        "basset_dataloader_valid = DataLoader(basset_dataset_valid,\n",
        "                                     batch_size=batch_size,\n",
        "                                     drop_last=True,\n",
        "                                     shuffle=False,\n",
        "                                     num_workers=1)\n",
        "basset_dataloader_test = DataLoader(basset_dataset_test,\n",
        "                                    batch_size=batch_size,\n",
        "                                    drop_last=True,\n",
        "                                    shuffle=False,\n",
        "                                    num_workers=1)"
      ]
    },
    {
      "cell_type": "markdown",
      "metadata": {
        "id": "ZFH5c18f89_Y"
      },
      "source": [
        "# **Question 2 (Building the Network)** \n",
        "(15 points). PyTorch also provides an abstraction for differentiable models: `torch.nn.Module`. In `solution.py`, we define Basset as a subclass of this class.\n",
        "\n",
        "1. Fill in the missing values denoted as `?` within the class definition using [supplementary figure 13](https://genome.cshlp.org/content/suppl/2016/06/10/gr.200535.115.DC1/Supplementary_Figures.pdf) and convolution arithmetic.\n",
        "2. Write the `forward` pass function. Again, please refer to [supplementary figure 13](https://genome.cshlp.org/content/suppl/2016/06/10/gr.200535.115.DC1/Supplementary_Figures.pdf).\n",
        "\n",
        "  Do not include any output activation in your forward method! In practice, it is better to use a loss function that has the output activation built-in."
      ]
    },
    {
      "cell_type": "code",
      "execution_count": 9,
      "metadata": {
        "id": "8EFHMkC6RGG3",
        "colab": {
          "base_uri": "https://localhost:8080/"
        },
        "outputId": "67c8212e-e8d9-42e5-b266-b0afc705aa49"
      },
      "outputs": [
        {
          "output_type": "execute_result",
          "data": {
            "text/plain": [
              "Basset(\n",
              "  (drplayer): Dropout(p=0.3, inplace=False)\n",
              "  (conv1): Conv2d(1, 300, kernel_size=(19, 4), stride=(1, 1), padding=(9, 0))\n",
              "  (conv2): Conv2d(300, 200, kernel_size=(11, 1), stride=(1, 1), padding=(5, 0))\n",
              "  (conv3): Conv2d(200, 200, kernel_size=(7, 1), stride=(1, 1), padding=(4, 0))\n",
              "  (bn1): BatchNorm2d(300, eps=1e-05, momentum=0.1, affine=True, track_running_stats=True)\n",
              "  (bn2): BatchNorm2d(200, eps=1e-05, momentum=0.1, affine=True, track_running_stats=True)\n",
              "  (bn3): BatchNorm2d(200, eps=1e-05, momentum=0.1, affine=True, track_running_stats=True)\n",
              "  (maxpool1): MaxPool2d(kernel_size=(3, 1), stride=(3, 1), padding=0, dilation=1, ceil_mode=False)\n",
              "  (maxpool2): MaxPool2d(kernel_size=(4, 1), stride=(4, 1), padding=0, dilation=1, ceil_mode=False)\n",
              "  (maxpool3): MaxPool2d(kernel_size=(4, 1), stride=(4, 1), padding=0, dilation=1, ceil_mode=False)\n",
              "  (fc1): Linear(in_features=2600, out_features=1000, bias=True)\n",
              "  (bn4): BatchNorm1d(1000, eps=1e-05, momentum=0.1, affine=True, track_running_stats=True)\n",
              "  (fc2): Linear(in_features=1000, out_features=1000, bias=True)\n",
              "  (bn5): BatchNorm1d(1000, eps=1e-05, momentum=0.1, affine=True, track_running_stats=True)\n",
              "  (fc3): Linear(in_features=1000, out_features=164, bias=True)\n",
              ")"
            ]
          },
          "metadata": {},
          "execution_count": 9
        }
      ],
      "source": [
        "model = solution.Basset().to(device)\n",
        "model.eval()"
      ]
    },
    {
      "cell_type": "markdown",
      "metadata": {
        "id": "tpHfTqxhYER_"
      },
      "source": [
        "# **Question 3 (Area Under the Curve)** \n",
        "(25 points). Each DNA sequence is either exposed (we'll call this the positive case) or not (we'll call this the negative case). The output of our model should be used to return a binary decision about the sequence.\n",
        "\n",
        "For a given case, we say that our model made a positive prediction whenever its output value is above some threshold $k$, and a negative prediction otherwise.\n",
        "\n",
        "Define the *True Positive Rate* (TPR) as the number of correctly prediced positive cases divided by the number of positive cases. Define the *False Positive Rate* (FPR) as the  number of cases that were incorrectly predicted as positive divided by the number of negative cases.\n",
        "\n",
        "1. Complete the function `compute_fpr_tpr` in `solution.py`. This code will compute the TPR and FPR given your models decisions and the true targets.\n",
        "\n",
        "2. Your FPR and TPR change as a function of $k$. Specifically, we can plot the FPR on the x-axis and the TPR on the y-axis for different values of $k$. The shape of the resulting curve (ROC curve) tells us something about our classifiers performance. We will explore via simulation what this plot looks like when our model is just making random guesses. In `solution.py`, fill in the function `compute_fpr_tpr_dumb_model`. This function will generate 1000 binary random variables to use as targets and 1000 uniform random variables between 0 and 1 as our model predictions. It will then compute the fpr and tpr for $k\\in \\{0, 0.05,..., 0.95\\}$ You should plot what the ROC curves look like for your own knowledge."
      ]
    },
    {
      "cell_type": "code",
      "execution_count": null,
      "metadata": {
        "id": "u_ewjBEFw-Gr",
        "colab": {
          "base_uri": "https://localhost:8080/"
        },
        "outputId": "6ee73622-a61b-4a22-9635-9771aa2bc234"
      },
      "outputs": [
        {
          "output_type": "execute_result",
          "data": {
            "text/plain": [
              "{'fpr_list': [1.0,\n",
              "  0.9540918163672655,\n",
              "  0.9121756487025948,\n",
              "  0.8562874251497006,\n",
              "  0.782435129740519,\n",
              "  0.7405189620758483,\n",
              "  0.6946107784431138,\n",
              "  0.6447105788423154,\n",
              "  0.5948103792415169,\n",
              "  0.5548902195608783,\n",
              "  0.5109780439121756,\n",
              "  0.45708582834331335,\n",
              "  0.41317365269461076,\n",
              "  0.34930139720558884,\n",
              "  0.31137724550898205,\n",
              "  0.25748502994011974,\n",
              "  0.20758483033932135,\n",
              "  0.15768463073852296,\n",
              "  0.09780439121756487,\n",
              "  0.043912175648702596],\n",
              " 'tpr_list': [1.0,\n",
              "  0.9378757515030061,\n",
              "  0.8717434869739479,\n",
              "  0.811623246492986,\n",
              "  0.7675350701402806,\n",
              "  0.7214428857715431,\n",
              "  0.6673346693386774,\n",
              "  0.625250501002004,\n",
              "  0.56312625250501,\n",
              "  0.5230460921843687,\n",
              "  0.48296593186372744,\n",
              "  0.4248496993987976,\n",
              "  0.36072144288577157,\n",
              "  0.30861723446893785,\n",
              "  0.26452905811623245,\n",
              "  0.22845691382765532,\n",
              "  0.1903807615230461,\n",
              "  0.14829659318637275,\n",
              "  0.10220440881763528,\n",
              "  0.04809619238476954]}"
            ]
          },
          "metadata": {},
          "execution_count": 11
        }
      ],
      "source": [
        "solution.compute_fpr_tpr_dumb_model()"
      ]
    },
    {
      "cell_type": "markdown",
      "metadata": {
        "id": "3cWBplcrw8wl"
      },
      "source": [
        "3. We will now simulate a better model. In `solution.py`, fill in the function `compute_fpr_tpr_smart_model`. This will simulate 1000 targets the same way as before. However, this will simulate model outputs as uniform random variables between 0.4 and 1 for the positive cases. For the negative cases, simulate uniform random variables between 0 and 0.6. Compute the tpr and fpr varying $k$ like before. You should also look at the ROC curve."
      ]
    },
    {
      "cell_type": "code",
      "execution_count": null,
      "metadata": {
        "id": "_Vdr40asxBUu",
        "colab": {
          "base_uri": "https://localhost:8080/"
        },
        "outputId": "3856ef11-c5a4-4556-dde5-ce5e703334d4"
      },
      "outputs": [
        {
          "output_type": "execute_result",
          "data": {
            "text/plain": [
              "{'fpr_list': [1.0,\n",
              "  0.9348739495798319,\n",
              "  0.8445378151260504,\n",
              "  0.7605042016806722,\n",
              "  0.6743697478991597,\n",
              "  0.592436974789916,\n",
              "  0.5,\n",
              "  0.4117647058823529,\n",
              "  0.3487394957983193,\n",
              "  0.26260504201680673,\n",
              "  0.17016806722689076,\n",
              "  0.07563025210084033,\n",
              "  0.0,\n",
              "  0.0,\n",
              "  0.0,\n",
              "  0.0,\n",
              "  0.0,\n",
              "  0.0,\n",
              "  0.0,\n",
              "  0.0],\n",
              " 'tpr_list': [1.0,\n",
              "  1.0,\n",
              "  1.0,\n",
              "  1.0,\n",
              "  1.0,\n",
              "  1.0,\n",
              "  1.0,\n",
              "  1.0,\n",
              "  1.0,\n",
              "  0.8740458015267175,\n",
              "  0.8129770992366412,\n",
              "  0.7614503816793893,\n",
              "  0.6679389312977099,\n",
              "  0.5820610687022901,\n",
              "  0.5038167938931297,\n",
              "  0.42366412213740456,\n",
              "  0.3320610687022901,\n",
              "  0.25763358778625955,\n",
              "  0.1717557251908397,\n",
              "  0.08778625954198473]}"
            ]
          },
          "metadata": {},
          "execution_count": 12
        }
      ],
      "source": [
        "solution.compute_fpr_tpr_smart_model()"
      ]
    },
    {
      "cell_type": "markdown",
      "metadata": {
        "id": "0-rqX9_UxBkK"
      },
      "source": [
        "4. The Area Under the ROC Curve (AUC) summarizes the ROC plot as a single number. It is literally computed as the area under the the ROC curve (take the average of the left and right Reimann sums). Complete the function `utils.compute_auc`. Then, in `compute_auc_both_models`, recreate the dumb and smart models from parts 2 and 3 and compute the AUC of them."
      ]
    },
    {
      "cell_type": "code",
      "execution_count": null,
      "metadata": {
        "id": "cvyUIbsBxDSO",
        "colab": {
          "base_uri": "https://localhost:8080/"
        },
        "outputId": "db761237-0dd6-4aa0-cd40-c000ae49c0bd"
      },
      "outputs": [
        {
          "output_type": "execute_result",
          "data": {
            "text/plain": [
              "{'auc_dumb_model': 0.47503110111964025, 'auc_smart_model': 0.9443744374437444}"
            ]
          },
          "metadata": {},
          "execution_count": 13
        }
      ],
      "source": [
        "solution.compute_auc_both_models()"
      ]
    },
    {
      "cell_type": "markdown",
      "metadata": {
        "id": "EUDMl_NaxDjV"
      },
      "source": [
        "5. Complete the function `compute_auc_untrained_model`, which will compute the AUC of your untrained model.\n",
        "\n",
        "    Note: since we are doing multi-task prediction, your model outputs and targets will have shape (Batch size, Num targets). Flatten these matrices so that they are two vectors, each of size Batch size * Num targets.\n",
        "    Then, procede with AUC as if you were in the usual single task case..."
      ]
    },
    {
      "cell_type": "code",
      "execution_count": null,
      "metadata": {
        "id": "-yJn7gvzxEQT",
        "colab": {
          "base_uri": "https://localhost:8080/"
        },
        "outputId": "8b145e2f-88b7-44f7-95de-5400b37bbd2d"
      },
      "outputs": [
        {
          "output_type": "stream",
          "name": "stdout",
          "text": [
            "[0 0 0 ... 0 0 0] (11787008,)\n",
            "[0.50072783 0.49764028 0.49931613 ... 0.5073963  0.49282667 0.5019716 ] (11787008,)\n"
          ]
        },
        {
          "output_type": "execute_result",
          "data": {
            "text/plain": [
              "{'auc': 0.5067502226401547}"
            ]
          },
          "metadata": {},
          "execution_count": 14
        }
      ],
      "source": [
        "solution.compute_auc_untrained_model(model, basset_dataloader_test, device)"
      ]
    },
    {
      "cell_type": "markdown",
      "metadata": {
        "id": "OXNicb2xL6_k"
      },
      "source": [
        "# **Question 4 (Training the Network)**\n",
        "(20 points) We will now write the training loop for Basset.\n",
        "\n",
        "1. Notice that for each input, we have one target per experiment, and each target is binary. Write the function `get_critereon`, which will pick the appropriate `loss` function. \n",
        "\n",
        "  Hint: you may consult the [relevant PyTorch documentation](https://pytorch.org/docs/stable/nn.html#loss-functions)\n",
        "\n"
      ]
    },
    {
      "cell_type": "code",
      "execution_count": 10,
      "metadata": {
        "id": "fiOOMTfRaz60"
      },
      "outputs": [],
      "source": [
        "criterion = solution.get_critereon()"
      ]
    },
    {
      "cell_type": "markdown",
      "metadata": {
        "id": "9y8MvhYcaZ4X"
      },
      "source": [
        "2. Finish the training loop by filling in the missing code for the `train_loop`  pass and `valid_loop` functions in `solution.py.`\n",
        "\n",
        "    Both loops must return the loss and AUC (computed the same way as the previous question). They must be returned by each function (see the docstring for more details)."
      ]
    },
    {
      "cell_type": "code",
      "execution_count": null,
      "metadata": {
        "id": "KE_ODCimT5n8"
      },
      "outputs": [],
      "source": [
        "optimizer = optim.Adam(list(model.parameters()), lr=learning_rate, betas=(0.9, 0.999))\n",
        "\n",
        "valid_score_best = 0\n",
        "patience = 2\n",
        "num_epochs = 5  # you don't need to train this for that long!\n",
        "\n",
        "for e in range(num_epochs):\n",
        "    train_score, train_loss = solution.train_loop(model, basset_dataloader_train, device, optimizer, criterion)\n",
        "    valid_score, valid_loss = solution.valid_loop(model, basset_dataloader_valid, device, optimizer, criterion)\n",
        "\n",
        "    print('epoch {}: loss={:.3f} score={:.3f}'.format(e,\n",
        "                                                      valid_loss,\n",
        "                                                      valid_score))\n",
        "\n",
        "    if valid_score > valid_score_best:\n",
        "        print('Best score: {}. Saving model...'.format(valid_score))\n",
        "        torch.save(model, 'model_params.pt')\n",
        "        valid_score_best = valid_score\n",
        "    else:\n",
        "        patience -= 1\n",
        "        print('Score did not improve! {} <= {}. Patience left: {}'.format(valid_score,\n",
        "                                                                          valid_score_best,\n",
        "                                                                          patience))\n",
        "    if patience == 0:\n",
        "        print('patience reduced to 0. Training Finished.')\n",
        "        break"
      ]
    },
    {
      "cell_type": "code",
      "source": [
        "trained_model = solution.Basset()"
      ],
      "metadata": {
        "id": "ZnH-S7yXBDNK"
      },
      "execution_count": 250,
      "outputs": []
    },
    {
      "cell_type": "code",
      "source": [
        "trained_model.load_state_dict(torch.load('A1/model_params_2.pt').state_dict())"
      ],
      "metadata": {
        "colab": {
          "base_uri": "https://localhost:8080/"
        },
        "id": "IAeuQdHjBNl1",
        "outputId": "9aa81da1-7767-4327-a63d-0806f385f9f2"
      },
      "execution_count": 251,
      "outputs": [
        {
          "output_type": "execute_result",
          "data": {
            "text/plain": [
              "<All keys matched successfully>"
            ]
          },
          "metadata": {},
          "execution_count": 251
        }
      ]
    },
    {
      "cell_type": "code",
      "source": [
        "trained_model = trained_model.to(device)"
      ],
      "metadata": {
        "id": "UQgfB-OP37QQ"
      },
      "execution_count": 252,
      "outputs": []
    },
    {
      "cell_type": "code",
      "source": [
        "trained_model.eval()"
      ],
      "metadata": {
        "colab": {
          "base_uri": "https://localhost:8080/"
        },
        "id": "FRpMJRo3HXKV",
        "outputId": "82e7da5e-55fc-42bd-be57-21453e6f6262"
      },
      "execution_count": 253,
      "outputs": [
        {
          "output_type": "execute_result",
          "data": {
            "text/plain": [
              "Basset(\n",
              "  (drplayer): Dropout(p=0.3, inplace=False)\n",
              "  (conv1): Conv2d(1, 300, kernel_size=(19, 4), stride=(1, 1), padding=(9, 0))\n",
              "  (conv2): Conv2d(300, 200, kernel_size=(11, 1), stride=(1, 1), padding=(5, 0))\n",
              "  (conv3): Conv2d(200, 200, kernel_size=(7, 1), stride=(1, 1), padding=(4, 0))\n",
              "  (bn1): BatchNorm2d(300, eps=1e-05, momentum=0.1, affine=True, track_running_stats=True)\n",
              "  (bn2): BatchNorm2d(200, eps=1e-05, momentum=0.1, affine=True, track_running_stats=True)\n",
              "  (bn3): BatchNorm2d(200, eps=1e-05, momentum=0.1, affine=True, track_running_stats=True)\n",
              "  (maxpool1): MaxPool2d(kernel_size=(3, 1), stride=(3, 1), padding=0, dilation=1, ceil_mode=False)\n",
              "  (maxpool2): MaxPool2d(kernel_size=(4, 1), stride=(4, 1), padding=0, dilation=1, ceil_mode=False)\n",
              "  (maxpool3): MaxPool2d(kernel_size=(4, 1), stride=(4, 1), padding=0, dilation=1, ceil_mode=False)\n",
              "  (fc1): Linear(in_features=2600, out_features=1000, bias=True)\n",
              "  (bn4): BatchNorm1d(1000, eps=1e-05, momentum=0.1, affine=True, track_running_stats=True)\n",
              "  (fc2): Linear(in_features=1000, out_features=1000, bias=True)\n",
              "  (bn5): BatchNorm1d(1000, eps=1e-05, momentum=0.1, affine=True, track_running_stats=True)\n",
              "  (fc3): Linear(in_features=1000, out_features=164, bias=True)\n",
              ")"
            ]
          },
          "metadata": {},
          "execution_count": 253
        }
      ]
    },
    {
      "cell_type": "markdown",
      "metadata": {
        "id": "P3WqwIe_2f3j"
      },
      "source": [
        "# **Question 5 (Interpreting the Model)**\n",
        "\n",
        "(30 points) In real-world applications of deep learning, it is *crucial* that we verify that our models are learning what we expect them to learn. In this exercise, we will replicate a part of figure 3b from [Basset](https://pubmed.ncbi.nlm.nih.gov/27197224/).\n",
        "\n",
        "In genetics, there exists well known DNA *motifs*: short sequences which appear throughtout our DNA, and whose function are well documented. We expect that the filters of the first convolution layer should learn to identify some of these motifs in order to solve this task.\n",
        "\n",
        "**Please submit the answers to this exercise on a single paged PDF!**\n",
        "\n",
        "1. First, we need to ensure that our model has learned something. Plot the ROC curve and compute the AUC of your model after training. Compare the ROC curves and the AUC before and after training with your simulated models. What do you notice?"
      ]
    },
    {
      "cell_type": "markdown",
      "metadata": {
        "id": "lob5UBa1_3fD"
      },
      "source": [
        "2. We represent motifs as position weight matrices (PWMs). This is a matrix of size $4$ $\\times$ the motif length, where the $(i,j)$th entry is a count of how often base-pair $i$ occurs at position $j$. Open the PWM for the CTCF motif, which can be found in `MA0139.1.jaspar`. Normalize this matrix so that each column sums to $1$. Display the PWM."
      ]
    },
    {
      "cell_type": "markdown",
      "metadata": {
        "id": "O1x6qoXteLaf"
      },
      "source": [
        "3. In the methods section of the [paper](https://pubmed.ncbi.nlm.nih.gov/27197224/) (page 998), the authors describe how they converted each of the $300$ filters into normalized PWMs. First, for each filter, they determined the maximum activated value across the *dataset* (you may use a subset of the test set here). Compute these values."
      ]
    },
    {
      "cell_type": "markdown",
      "metadata": {
        "id": "VaVuQwub8Ap_"
      },
      "source": [
        "\n",
        "4. Next, they counted the base-pair occurrences in the set of sequences that activate the filter to a value that is more than half of its maximum value.\n",
        "\n",
        "  Note: You should use `torch.functional.unfold`."
      ]
    },
    {
      "cell_type": "markdown",
      "metadata": {
        "id": "MIClN1pr8rc-"
      },
      "source": [
        "5. Given your 300 PWMs derived from your convolution filters, check to see if any of them are similar to the PWM for CTCF. You could quantify the similarity using *Pearson Correlation Coefficient*. Make a visualization of the PWM of the CTCF motif along with the most similar ones learned from the network. "
      ]
    },
    {
      "cell_type": "markdown",
      "metadata": {
        "id": "9crY6GgC_3fD"
      },
      "source": [
        "**A couple of points that may help you with this question**\n",
        "* I've noticed that instances of Google Colab vary significantly in speed (probably the GPU you are assigned). If your code is running very slowly, you can restart it until you get a faster instance.\n",
        "* You are free to change the scoring function when training (I use the same AUC but changed the increments of thresholds from 0.05 to 0.01 and found that the score increased more visibly)."
      ]
    },
    {
      "cell_type": "code",
      "source": [
        "#Compute Ytrue an Ypred\n",
        "def compute_model_yvals(model, dataloader, device):\n",
        "    \"\"\"\n",
        "    Computes the AUC of your input model\n",
        "\n",
        "    Args:\n",
        "        :param model: solution.Basset()\n",
        "        :param dataloader: torch.utils.data.DataLoader\n",
        "                           Where the dataset is solution.BassetDataset\n",
        "        :param device: torch.device\n",
        "\n",
        "    :Return: dict with key 'auc'.\n",
        "             This contains the AUC for the model\n",
        "             auc value should be float\n",
        "\n",
        "    Notes:\n",
        "    * Dont forget to re-apply your output activation!\n",
        "    * Make sure this function works with arbitrarily small dataset sizes!\n",
        "    * You should collect all the targets and model outputs and then compute AUC at the end\n",
        "      (compute time should not be as much of a consideration here)\n",
        "    \"\"\"\n",
        "    y_pred = []\n",
        "    y_true = []\n",
        "    model.to(device)\n",
        "    model.eval()\n",
        "    for x in dataloader:\n",
        "        seq = x['sequence']\n",
        "        target = x['target']\n",
        "        y_true.append(torch.flatten(target).numpy())\n",
        "    \n",
        "        x = seq.to(device)\n",
        "        y_hat = torch.sigmoid(model(x))\n",
        "        # y_hat = model(y_hat)\n",
        "        y_hat = torch.flatten(y_hat)\n",
        "        y_hat = y_hat.cpu().detach().numpy()\n",
        "        y_pred.append(y_hat)\n",
        "    y_pred = np.array(np.concatenate( y_pred, axis=0 ))\n",
        "    y_true = np.array(np.concatenate( y_true, axis=0), dtype = np.int32)\n",
        "    y_pred = np.ravel(y_pred)\n",
        "    y_true = np.ravel(y_true)\n",
        "    # print(y_true, y_true.shape)\n",
        "    # print(y_pred, y_pred.shape)\n",
        "    output = (y_true,y_pred)\n",
        "    auc = compute_auc_mod(y_true, y_pred)\n",
        "    # WRITE CODE HERE\n",
        "\n",
        "    return auc\n",
        "def compute_auc_mod(y_true, y_model):\n",
        "    \"\"\"\n",
        "    Computes area under the ROC curve (using method described in main.ipynb)\n",
        "    Args:\n",
        "        :param y_true: groundtruth labels (np.array of ints [0 or 1])\n",
        "        :param y_model: model outputs (np.array of float32 in [0, 1])\n",
        "    :Return: dict with key 'auc'.\n",
        "             This contains the AUC for the model\n",
        "             auc value should be float\n",
        "\n",
        "    Note: if you set y_model as the output of solution.Basset, \n",
        "    you need to transform it before passing it here!\n",
        "    \"\"\"\n",
        "    output = {'auc': 0.}\n",
        "    fpr_list = []\n",
        "    tpr_list = []\n",
        "\n",
        "    for k in np.arange(0, 1, 0.05):\n",
        "        y_pred =  np.where(y_model >= k, 1, 0)\n",
        "        ratios = solution.compute_fpr_tpr(y_true, y_pred)\n",
        "        fpr_list.append(ratios['fpr'])\n",
        "        tpr_list.append(ratios['tpr'])\n",
        "        \n",
        "    # WRITE CODE HERE\n",
        "    output['auc'] = -1 * np.trapz(tpr_list,fpr_list)\n",
        "    output['tpr'] = tpr_list\n",
        "    output['fpr'] = fpr_list\n",
        "\n",
        "    return output"
      ],
      "metadata": {
        "id": "bWiKPJHyDcvK"
      },
      "execution_count": 254,
      "outputs": []
    },
    {
      "cell_type": "code",
      "source": [
        "import matplotlib.pyplot as plt\n",
        "import sklearn.metrics as metrics"
      ],
      "metadata": {
        "id": "Bv8RyACbDljJ"
      },
      "execution_count": 255,
      "outputs": []
    },
    {
      "cell_type": "code",
      "source": [
        "output_untrained = compute_model_yvals(model, basset_dataloader_test, device)"
      ],
      "metadata": {
        "id": "ZMHN7Nz9Domv"
      },
      "execution_count": 256,
      "outputs": []
    },
    {
      "cell_type": "code",
      "source": [
        "output_trained = compute_model_yvals(trained_model, basset_dataloader_test, device)"
      ],
      "metadata": {
        "id": "45BcgbG4DxDn"
      },
      "execution_count": 257,
      "outputs": []
    },
    {
      "cell_type": "code",
      "source": [
        "plt.title('Receiver Operating Characteristic')\n",
        "plt.plot(output_untrained['fpr'], output_untrained['tpr'], 'b', label = 'untrained_model AUC = %0.2f' % output_untrained['auc'], color='red')\n",
        "plt.plot(output_trained['fpr'], output_trained['tpr'], 'b', label = 'trained_model AUC = %0.2f' % output_trained['auc'])\n",
        "\n",
        "plt.legend(loc = 'lower right')\n",
        "plt.plot([0, 1], [0, 1],'r--')\n",
        "plt.xlim([0, 1])\n",
        "plt.ylim([0, 1])\n",
        "plt.ylabel('True Positive Rate')\n",
        "plt.xlabel('False Positive Rate')\n",
        "plt.show()"
      ],
      "metadata": {
        "colab": {
          "base_uri": "https://localhost:8080/",
          "height": 295
        },
        "id": "_3qzMkVVD5w-",
        "outputId": "b67744d0-30fc-4a20-cb1f-4619f51dc68f"
      },
      "execution_count": 258,
      "outputs": [
        {
          "output_type": "display_data",
          "data": {
            "image/png": "[encoded data removed]",
            "text/plain": [
              "<Figure size 432x288 with 1 Axes>"
            ]
          },
          "metadata": {
            "needs_background": "light"
          }
        }
      ]
    },
    {
      "cell_type": "code",
      "source": [
        "solution.compute_auc_untrained_model(trained_model, basset_dataloader_test, device)"
      ],
      "metadata": {
        "colab": {
          "base_uri": "https://localhost:8080/"
        },
        "id": "b5_yY-O5EnVx",
        "outputId": "0d7c8564-ee79-4371-b6a4-a31bcc4f925b"
      },
      "execution_count": null,
      "outputs": [
        {
          "output_type": "stream",
          "name": "stdout",
          "text": [
            "[0 0 0 ... 0 0 0] (11787008,)\n",
            "[0.00365777 0.0102314  0.00819277 ... 0.00099646 0.00138345 0.00081916] (11787008,)\n"
          ]
        },
        {
          "output_type": "execute_result",
          "data": {
            "text/plain": [
              "{'auc': 0.7474894211944998}"
            ]
          },
          "metadata": {},
          "execution_count": 19
        }
      ]
    },
    {
      "cell_type": "code",
      "source": [
        "def q5_3(model, dataloader, device):\n",
        "  # activation = {}\n",
        "  # def get_activation(name):\n",
        "  #   def hook(model, input, output):\n",
        "  #       activation[name] = output.detach()\n",
        "  #   return hook\n",
        "  y_pred = []\n",
        "  y_true = []\n",
        "  model.to(device)\n",
        "  model.eval()\n",
        "  prev_max = None\n",
        "  count = 0\n",
        "  with torch.no_grad():\n",
        "    trained_model.eval()\n",
        "    for x in dataloader:\n",
        "      seq = x['sequence']\n",
        "      target = x['target']\n",
        "      # y_true.append(torch.flatten(target).numpy())\n",
        "      x = seq.to(device)\n",
        "      # model.conv1.register_forward_hook(get_activation('conv1'))\n",
        "      output = trained_model.conv1(x)\n",
        "      vals = torch.amax(output, dim=(2,0))\n",
        "      vals = torch.flatten(vals)\n",
        "      if prev_max!=None:\n",
        "        prev_max = torch.max(prev_max,vals)\n",
        "      else:\n",
        "        prev_max = vals\n",
        "    # print(prev_max)\n",
        "  return prev_max.detach().to('cpu')"
      ],
      "metadata": {
        "id": "v13FQxFXE0It"
      },
      "execution_count": 259,
      "outputs": []
    },
    {
      "cell_type": "code",
      "source": [
        "from tqdm import tqdm"
      ],
      "metadata": {
        "id": "RcNVf7CQ-BIh"
      },
      "execution_count": 213,
      "outputs": []
    },
    {
      "cell_type": "code",
      "source": [
        "max_act_mat = -100 * torch.ones(300)\n",
        "with torch.no_grad():\n",
        "  trained_model.eval()\n",
        "  for _,batch in enumerate(tqdm(basset_dataloader_test)):\n",
        "    batch_x=batch[\"sequence\"].to(device)\n",
        "    output = trained_model.conv1(batch_x)\n",
        "    for i in range (300):\n",
        "      max_act_mat[i]= np.maximum(max_act_mat[i],torch.max(output[:,i,:,0]).cpu().detach().numpy())"
      ],
      "metadata": {
        "colab": {
          "base_uri": "https://localhost:8080/"
        },
        "id": "DDeQvn_s9T4O",
        "outputId": "2976c561-a295-434f-aecb-a45b406abf9a"
      },
      "execution_count": 260,
      "outputs": [
        {
          "output_type": "stream",
          "name": "stderr",
          "text": [
            "100%|██████████| 1123/1123 [01:35<00:00, 11.77it/s]\n"
          ]
        }
      ]
    },
    {
      "cell_type": "code",
      "source": [
        "filter_max = q5_3(trained_model, basset_dataloader_test, device)"
      ],
      "metadata": {
        "id": "N7ZZeKJubSbZ"
      },
      "execution_count": 200,
      "outputs": []
    },
    {
      "cell_type": "code",
      "source": [
        "max(max_act_mat)"
      ],
      "metadata": {
        "colab": {
          "base_uri": "https://localhost:8080/"
        },
        "id": "uc3R31yIdX4-",
        "outputId": "b904c4fb-535b-43ad-b2be-feb6e4390775"
      },
      "execution_count": 262,
      "outputs": [
        {
          "output_type": "execute_result",
          "data": {
            "text/plain": [
              "tensor(4.5906)"
            ]
          },
          "metadata": {},
          "execution_count": 262
        }
      ]
    },
    {
      "cell_type": "code",
      "source": [
        "# unfold_seq = unfold(x_s)\n",
        "#   N,_,L = unfold_seq.shape\n",
        "#   unfold_seq = unfold_seq.reshape(N, 19, 4 ,L)\n",
        "#   output = trained_model.conv1(x_s)\n",
        "#   unfold_seq= unfold_seq.permute(0, 3, 1, 2).flatten(0, 1)\n",
        "#   output = output.squeeze().permute (0, 2, 1).flatten (0, 1)\n",
        "#   threshold = filter_max.unsqueeze(0).repeat(output.shape[0], 1)\n",
        "#   threshold = threshold/2\n",
        "#   mask = torch.gt(output.cpu (), threshold)\n",
        "#   for i in range(300):\n",
        "#     idx= mask [:, i]\n",
        "#     seq_set= unfold_seq[idx]\n",
        "#     pwm_i=seq_set.sum(dim=0)\n",
        "#     pwm[1, ...]+=pwm_i.cpu()\n"
      ],
      "metadata": {
        "id": "YyfF95sNc87k"
      },
      "execution_count": null,
      "outputs": []
    },
    {
      "cell_type": "code",
      "source": [
        "half_filter_val = filter_max/2"
      ],
      "metadata": {
        "id": "9e_CTmjAhxOF"
      },
      "execution_count": 202,
      "outputs": []
    },
    {
      "cell_type": "code",
      "source": [
        "max(half_filter_val)"
      ],
      "metadata": {
        "colab": {
          "base_uri": "https://localhost:8080/"
        },
        "id": "HNrVARIaiLWL",
        "outputId": "fb5cc444-a313-45d0-e6b8-53452360f804"
      },
      "execution_count": 203,
      "outputs": [
        {
          "output_type": "execute_result",
          "data": {
            "text/plain": [
              "tensor(2.2953)"
            ]
          },
          "metadata": {},
          "execution_count": 203
        }
      ]
    },
    {
      "cell_type": "code",
      "source": [
        "import copy\n",
        "hf_new = copy.deepcopy(half_filter_val).reshape(1,300,1).to(device)"
      ],
      "metadata": {
        "id": "dWTS1LH7ehmp"
      },
      "execution_count": 158,
      "outputs": []
    },
    {
      "cell_type": "code",
      "source": [
        "pwm = torch.zeros(300, 19, 4)\n",
        "unfold = torch.nn.Unfold(kernel_size=(19,4), padding=(9,0), stride=1)\n",
        "count = 0\n",
        "with torch.no_grad():\n",
        "  trained_model.eval()\n",
        "  for x in basset_dataloader_test:\n",
        "    x_s = x['sequence'].to(device)\n",
        "    # a = torch.reshape(torch.nn.functional.unfold(x_s,kernel_size=(19,4)),shape=(-1,1,19,4))\n",
        "    # b = torch.nn.functional.conv2d(a, trained_model.conv1.weight, bias=trained_model.conv1.bias, padding=(0,0))\n",
        "    # b = torch.flatten(b,2,3)\n",
        "    # mask = torch.greater_equal(b,hf_new)\n",
        "    unfold_seq = unfold(x_s)\n",
        "    N,_,L = unfold_seq.shape\n",
        "    unfold_seq = unfold_seq.reshape(N, 19, 4 ,L)\n",
        "    output = trained_model.conv1(x_s)\n",
        "    unfold_seq= unfold_seq.permute(0, 3, 1, 2).flatten(0, 1)\n",
        "    output = output.squeeze().permute(0, 2, 1).flatten(0, 1)\n",
        "    threshold = max_act_mat.unsqueeze(0).repeat(output.shape[0], 1)\n",
        "    threshold = threshold/2\n",
        "    mask = torch.gt(output.cpu(), threshold)\n",
        "    for i in range(300):\n",
        "      idx= mask [:, i]\n",
        "      seq_set= unfold_seq[idx]\n",
        "      pwm_i=seq_set.sum(dim=0)\n",
        "      pwm[i, ...]+=pwm_i.cpu()\n",
        "  # for i in range(300):\n",
        "  #   idx = mask[:,i]\n",
        "  #   seq_set = a[idx]\n",
        "  #   pwm_i=seq_set.sum(dim=0)\n",
        "  #   pwm[i, ...]+=pwm_i.cpu()\n",
        "  # print(mask.shape)\n",
        "  # print(sum(mask[:,1,0]==True))\n",
        "  \n",
        "\n"
      ],
      "metadata": {
        "id": "vkEirVzknEVk"
      },
      "execution_count": 263,
      "outputs": []
    },
    {
      "cell_type": "code",
      "source": [
        "pwm.shape"
      ],
      "metadata": {
        "colab": {
          "base_uri": "https://localhost:8080/",
          "height": 166
        },
        "id": "LQ_5JDw6iTH7",
        "outputId": "41a09b76-9214-42b6-9ab4-814478bcc3ff"
      },
      "execution_count": 272,
      "outputs": [
        {
          "output_type": "error",
          "ename": "AttributeError",
          "evalue": "ignored",
          "traceback": [
            "\u001b[0;31m---------------------------------------------------------------------------\u001b[0m",
            "\u001b[0;31mAttributeError\u001b[0m                            Traceback (most recent call last)",
            "\u001b[0;32m<ipython-input-272-1724617f3227>\u001b[0m in \u001b[0;36m<module>\u001b[0;34m()\u001b[0m\n\u001b[0;32m----> 1\u001b[0;31m \u001b[0mpwm\u001b[0m\u001b[0;34m.\u001b[0m\u001b[0mshape\u001b[0m\u001b[0;34m\u001b[0m\u001b[0;34m\u001b[0m\u001b[0m\n\u001b[0m",
            "\u001b[0;31mAttributeError\u001b[0m: 'PositionWeightMatrix' object has no attribute 'shape'"
          ]
        }
      ]
    },
    {
      "cell_type": "code",
      "source": [
        "pwm[0]"
      ],
      "metadata": {
        "colab": {
          "base_uri": "https://localhost:8080/"
        },
        "id": "JEdD2l9-evV7",
        "outputId": "ed394002-4802-4131-a06a-9eeeb95d2563"
      },
      "execution_count": 271,
      "outputs": [
        {
          "output_type": "execute_result",
          "data": {
            "text/plain": [
              "(0.09529025191675794,\n",
              " 0.1829134720700986,\n",
              " 0.307776560788609,\n",
              " 0.06133625410733844,\n",
              " 0.008762322015334063,\n",
              " 0.8148959474260679,\n",
              " 0.04381161007667032,\n",
              " 0.11732456140350878,\n",
              " 0.9331140350877193,\n",
              " 0.005488474204171241,\n",
              " 0.36553238199780463,\n",
              " 0.059275521405049394,\n",
              " 0.013186813186813187,\n",
              " 0.06153846153846154,\n",
              " 0.11441144114411442,\n",
              " 0.40924092409240925,\n",
              " 0.09030837004405286,\n",
              " 0.1288546255506608,\n",
              " 0.44273127753303965)"
            ]
          },
          "metadata": {},
          "execution_count": 271
        }
      ]
    },
    {
      "cell_type": "code",
      "source": [
        "#normalize the pwm\n",
        "print(pwm.shape)\n",
        "sum_pwm = pwm.sum(dim=2)\n",
        "print(sum_pwm.shape)\n",
        "norm_pwm = pwm/sum_pwm[:,:,None]\n",
        "norm_pwm=norm_pwm.cpu().numpy()"
      ],
      "metadata": {
        "colab": {
          "base_uri": "https://localhost:8080/"
        },
        "id": "M1Kt4U_1yLrH",
        "outputId": "3a8ab83a-5129-4de0-aa4f-460a5f7dfc9c"
      },
      "execution_count": 245,
      "outputs": [
        {
          "output_type": "stream",
          "name": "stdout",
          "text": [
            "torch.Size([300, 19, 4])\n",
            "torch.Size([300, 19])\n"
          ]
        }
      ]
    },
    {
      "cell_type": "code",
      "source": [
        "sum_pwm.shape"
      ],
      "metadata": {
        "colab": {
          "base_uri": "https://localhost:8080/"
        },
        "id": "_QEZJ0raLKx5",
        "outputId": "36c00939-fe7c-4a95-aa2a-fcb1d00b265b"
      },
      "execution_count": 275,
      "outputs": [
        {
          "output_type": "execute_result",
          "data": {
            "text/plain": [
              "torch.Size([300, 19])"
            ]
          },
          "metadata": {},
          "execution_count": 275
        }
      ]
    },
    {
      "cell_type": "code",
      "source": [
        "!pip install biopython"
      ],
      "metadata": {
        "id": "FglAPMxhH_yy",
        "colab": {
          "base_uri": "https://localhost:8080/"
        },
        "outputId": "78df7077-28ad-4744-ad88-2b4ef009d4f2"
      },
      "execution_count": 66,
      "outputs": [
        {
          "output_type": "stream",
          "name": "stdout",
          "text": [
            "Collecting biopython\n",
            "  Downloading biopython-1.79-cp37-cp37m-manylinux_2_5_x86_64.manylinux1_x86_64.whl (2.3 MB)\n",
            "\u001b[K     |████████████████████████████████| 2.3 MB 5.3 MB/s \n",
            "\u001b[?25hRequirement already satisfied: numpy in /usr/local/lib/python3.7/dist-packages (from biopython) (1.21.5)\n",
            "Installing collected packages: biopython\n",
            "Successfully installed biopython-1.79\n"
          ]
        }
      ]
    },
    {
      "cell_type": "code",
      "source": [
        "from Bio import motifs\n",
        "from Bio.Seq import Seq\n",
        "import scipy"
      ],
      "metadata": {
        "id": "P_oErMbxKusJ"
      },
      "execution_count": 83,
      "outputs": []
    },
    {
      "cell_type": "code",
      "source": [
        "with open(\"A1/MA0139.1.jaspar\") as handle:\n",
        "  record = motifs.parse(handle, 'jaspar')"
      ],
      "metadata": {
        "id": "W0vPM_9noVBA"
      },
      "execution_count": 70,
      "outputs": []
    },
    {
      "cell_type": "code",
      "source": [
        "print(record[0])"
      ],
      "metadata": {
        "colab": {
          "base_uri": "https://localhost:8080/"
        },
        "id": "7UG1exaxpT6H",
        "outputId": "6720e89a-0c49-4198-8a0e-358cf485c1b4"
      },
      "execution_count": 72,
      "outputs": [
        {
          "output_type": "stream",
          "name": "stdout",
          "text": [
            "TF name\tCTCF\n",
            "Matrix ID\tMA0139.1\n",
            "Matrix:\n",
            "        0      1      2      3      4      5      6      7      8      9     10     11     12     13     14     15     16     17     18\n",
            "A:  87.00 167.00 281.00  56.00   8.00 744.00  40.00 107.00 851.00   5.00 333.00  54.00  12.00  56.00 104.00 372.00  82.00 117.00 402.00\n",
            "C: 291.00 145.00  49.00 800.00 903.00  13.00 528.00 433.00  11.00   0.00   3.00  12.00   0.00   8.00 733.00  13.00 482.00 322.00 181.00\n",
            "G:  76.00 414.00 449.00  21.00   0.00  65.00 334.00  48.00  32.00 903.00 566.00 504.00 890.00 775.00   5.00 507.00 307.00  73.00 266.00\n",
            "T: 459.00 187.00 134.00  36.00   2.00  91.00  11.00 324.00  18.00   3.00   9.00 341.00   8.00  71.00  67.00  17.00  37.00 396.00  59.00\n",
            "\n",
            "\n",
            "\n"
          ]
        }
      ]
    },
    {
      "cell_type": "code",
      "source": [
        "mot = record[0]"
      ],
      "metadata": {
        "id": "4X8LDR82pVAc"
      },
      "execution_count": 73,
      "outputs": []
    },
    {
      "cell_type": "code",
      "source": [
        "ctcf_pwm_matrix= []\n",
        "keys = []\n",
        "pwm = mot.pwm\n",
        "for k in pwm.keys():\n",
        "    ctcf_pwm_matrix.append(np.array(list(pwm[k])))\n",
        "    keys.append(k)\n",
        "ctcf_pwm_matrix = np.array(ctcf_pwm_matrix)"
      ],
      "metadata": {
        "id": "_V8DHXhlpcR1"
      },
      "execution_count": 264,
      "outputs": []
    },
    {
      "cell_type": "code",
      "source": [
        "ctcf_pwm_matrix"
      ],
      "metadata": {
        "colab": {
          "base_uri": "https://localhost:8080/"
        },
        "id": "fylUxLO_p_xq",
        "outputId": "866d8fb8-2f69-4cf6-9c82-eca970e96513"
      },
      "execution_count": 265,
      "outputs": [
        {
          "output_type": "execute_result",
          "data": {
            "text/plain": [
              "array([[0.09529025, 0.18291347, 0.30777656, 0.06133625, 0.00876232,\n",
              "        0.81489595, 0.04381161, 0.11732456, 0.93311404, 0.00548847,\n",
              "        0.36553238, 0.05927552, 0.01318681, 0.06153846, 0.11441144,\n",
              "        0.40924092, 0.09030837, 0.12885463, 0.44273128],\n",
              "       [0.31872946, 0.15881709, 0.05366922, 0.8762322 , 0.9890471 ,\n",
              "        0.01423877, 0.57831325, 0.4747807 , 0.0120614 , 0.        ,\n",
              "        0.00329308, 0.01317234, 0.        , 0.00879121, 0.80638064,\n",
              "        0.01430143, 0.530837  , 0.35462555, 0.19933921],\n",
              "       [0.08324206, 0.45345016, 0.49178532, 0.0230011 , 0.        ,\n",
              "        0.07119387, 0.36582694, 0.05263158, 0.03508772, 0.99121844,\n",
              "        0.62129528, 0.5532382 , 0.97802198, 0.85164835, 0.00550055,\n",
              "        0.55775578, 0.33810573, 0.08039648, 0.29295154],\n",
              "       [0.50273823, 0.20481928, 0.14676889, 0.03943045, 0.00219058,\n",
              "        0.09967141, 0.01204819, 0.35526316, 0.01973684, 0.00329308,\n",
              "        0.00987925, 0.37431394, 0.00879121, 0.07802198, 0.07370737,\n",
              "        0.01870187, 0.0407489 , 0.43612335, 0.06497797]])"
            ]
          },
          "metadata": {},
          "execution_count": 265
        }
      ]
    },
    {
      "cell_type": "code",
      "source": [
        "def corr2_coeff(A, B):\n",
        "    # Rowwise mean of input arrays & subtract from input arrays themeselves\n",
        "    A_mA = A - A.mean(1)[:, None]\n",
        "    B_mB = B - B.mean(1)[:, None]\n",
        "\n",
        "    # Sum of squares across rows\n",
        "    ssA = (A_mA**2).sum(1)\n",
        "    ssB = (B_mB**2).sum(1)\n",
        "\n",
        "    # Finally get corr coeff\n",
        "    return np.dot(A_mA, B_mB.T) / np.sqrt(np.dot(ssA[:, None],ssB[None]))"
      ],
      "metadata": {
        "id": "bGvzrYdUrues"
      },
      "execution_count": 225,
      "outputs": []
    },
    {
      "cell_type": "code",
      "source": [
        "corr = []\n",
        "for i in range(300):\n",
        "  corr.append(scipy.stats.pearsonr(np.ndarray.flatten(ctcf_pwm_matrix), np.ndarray.flatten(norm_pwm[i])))"
      ],
      "metadata": {
        "id": "MrhqAjYypv80"
      },
      "execution_count": 266,
      "outputs": []
    },
    {
      "cell_type": "code",
      "source": [
        "corr = np.array(corr)"
      ],
      "metadata": {
        "id": "FQbYxK8RqClC"
      },
      "execution_count": 267,
      "outputs": []
    },
    {
      "cell_type": "code",
      "source": [
        "np.max(corr[:,0])"
      ],
      "metadata": {
        "colab": {
          "base_uri": "https://localhost:8080/"
        },
        "id": "2EjVkElPqMC9",
        "outputId": "ae3f9791-b8ad-4f81-8d79-fb8ac1c136d0"
      },
      "execution_count": 268,
      "outputs": [
        {
          "output_type": "execute_result",
          "data": {
            "text/plain": [
              "0.26340639143648464"
            ]
          },
          "metadata": {},
          "execution_count": 268
        }
      ]
    },
    {
      "cell_type": "code",
      "source": [
        "sorted = np.sort(arr)"
      ],
      "metadata": {
        "id": "CbiT1vV4qQY1"
      },
      "execution_count": 269,
      "outputs": []
    },
    {
      "cell_type": "code",
      "source": [
        "sorted"
      ],
      "metadata": {
        "colab": {
          "base_uri": "https://localhost:8080/"
        },
        "id": "dpO2zLRSu4DL",
        "outputId": "1b8e01ac-adeb-4fb0-faaf-42176fc5805b"
      },
      "execution_count": 270,
      "outputs": [
        {
          "output_type": "execute_result",
          "data": {
            "text/plain": [
              "array([-2.58928535e-01, -2.45249107e-01, -2.36409083e-01, -2.34413993e-01,\n",
              "       -2.27515377e-01, -2.20560069e-01, -2.18713963e-01, -2.18148172e-01,\n",
              "       -2.17495554e-01, -2.08425901e-01, -2.07649750e-01, -2.02405481e-01,\n",
              "       -1.96571000e-01, -1.94087003e-01, -1.92597658e-01, -1.89750296e-01,\n",
              "       -1.87110542e-01, -1.85871866e-01, -1.85114725e-01, -1.82779359e-01,\n",
              "       -1.81143477e-01, -1.79485081e-01, -1.76455324e-01, -1.72343871e-01,\n",
              "       -1.67027611e-01, -1.66726292e-01, -1.64970157e-01, -1.55658262e-01,\n",
              "       -1.55168429e-01, -1.53552306e-01, -1.52434260e-01, -1.51903798e-01,\n",
              "       -1.51155693e-01, -1.47457297e-01, -1.45745289e-01, -1.42622582e-01,\n",
              "       -1.42522943e-01, -1.41573539e-01, -1.40157728e-01, -1.36915650e-01,\n",
              "       -1.36907108e-01, -1.30025726e-01, -1.29930094e-01, -1.29214123e-01,\n",
              "       -1.27720699e-01, -1.27350193e-01, -1.26821968e-01, -1.24119537e-01,\n",
              "       -1.21583295e-01, -1.21160096e-01, -1.17292700e-01, -1.17078811e-01,\n",
              "       -1.16134891e-01, -1.13670143e-01, -1.12952682e-01, -1.12930978e-01,\n",
              "       -1.09593321e-01, -1.09090922e-01, -1.08438236e-01, -1.07762617e-01,\n",
              "       -1.05357665e-01, -1.04954025e-01, -1.02535206e-01, -1.02331562e-01,\n",
              "       -1.01593883e-01, -1.01411539e-01, -1.00852405e-01, -9.88734975e-02,\n",
              "       -9.62516036e-02, -9.60196354e-02, -9.59856674e-02, -9.52757128e-02,\n",
              "       -9.44999757e-02, -9.43207595e-02, -9.36183759e-02, -9.30852021e-02,\n",
              "       -9.25533211e-02, -9.24899508e-02, -9.23029041e-02, -9.12267556e-02,\n",
              "       -9.03643577e-02, -8.89033867e-02, -8.86123570e-02, -8.63896558e-02,\n",
              "       -8.40786875e-02, -8.33636782e-02, -8.25450848e-02, -8.10589406e-02,\n",
              "       -7.92901596e-02, -7.81993416e-02, -7.80208249e-02, -7.69792356e-02,\n",
              "       -7.66644802e-02, -7.57424851e-02, -7.54984020e-02, -7.39177313e-02,\n",
              "       -7.23509613e-02, -6.96186013e-02, -6.88601217e-02, -6.67061130e-02,\n",
              "       -6.58448655e-02, -6.16608454e-02, -6.14973317e-02, -6.03963184e-02,\n",
              "       -6.01306285e-02, -5.71730151e-02, -5.54965199e-02, -5.37117032e-02,\n",
              "       -5.33289263e-02, -5.29056261e-02, -5.07741062e-02, -4.91823360e-02,\n",
              "       -4.84736300e-02, -4.84638092e-02, -4.84228237e-02, -4.70450724e-02,\n",
              "       -4.55588635e-02, -4.55118450e-02, -4.51541041e-02, -4.42354419e-02,\n",
              "       -3.84426202e-02, -3.81728719e-02, -3.46294815e-02, -3.45165068e-02,\n",
              "       -3.33375160e-02, -3.30098880e-02, -3.26072678e-02, -2.95399153e-02,\n",
              "       -2.82292329e-02, -2.70636733e-02, -2.67573629e-02, -2.45051108e-02,\n",
              "       -2.39346809e-02, -2.22467462e-02, -2.11374520e-02, -1.85017517e-02,\n",
              "       -1.81699768e-02, -1.66755980e-02, -1.60902597e-02, -1.47637854e-02,\n",
              "       -1.47017882e-02, -1.45298691e-02, -1.43125669e-02, -1.32442085e-02,\n",
              "       -1.32257461e-02, -1.22981062e-02, -1.08060327e-02, -1.05067457e-02,\n",
              "       -9.63433775e-03, -9.45679868e-03, -9.13266129e-03, -7.15990047e-03,\n",
              "       -6.86502640e-03, -5.30023921e-03, -4.99808624e-03, -4.03790209e-03,\n",
              "       -3.26116341e-03, -2.26786678e-03, -1.91097383e-03, -1.87426389e-03,\n",
              "       -1.08603428e-03, -1.47918777e-04,  2.82551344e-06,  4.05473398e-03,\n",
              "        5.22295871e-03,  5.45473106e-03,  5.67730131e-03,  6.99250354e-03,\n",
              "        7.51312196e-03,  8.08749255e-03,  8.27190366e-03,  8.87862603e-03,\n",
              "        9.35824869e-03,  1.07803270e-02,  1.14628777e-02,  1.19465813e-02,\n",
              "        1.25011890e-02,  1.34606359e-02,  1.40399434e-02,  1.45758015e-02,\n",
              "        1.58823606e-02,  1.66926384e-02,  1.82576277e-02,  1.89305367e-02,\n",
              "        1.93607182e-02,  1.99806251e-02,  2.00623523e-02,  2.04899198e-02,\n",
              "        2.18638345e-02,  2.24377605e-02,  2.24541116e-02,  2.31036309e-02,\n",
              "        2.67666417e-02,  2.99747083e-02,  3.08741744e-02,  3.11123512e-02,\n",
              "        3.25787597e-02,  3.66797568e-02,  3.67484207e-02,  3.89279726e-02,\n",
              "        3.92837926e-02,  3.99096185e-02,  4.09819210e-02,  4.38371930e-02,\n",
              "        4.49808516e-02,  4.50751942e-02,  4.50774924e-02,  4.61469761e-02,\n",
              "        4.71950604e-02,  4.73528725e-02,  4.95193647e-02,  4.95587625e-02,\n",
              "        5.25208542e-02,  5.37720147e-02,  5.50043103e-02,  5.50936692e-02,\n",
              "        5.76834873e-02,  5.78564070e-02,  5.90559312e-02,  6.03604953e-02,\n",
              "        6.06781750e-02,  6.10799039e-02,  6.26538572e-02,  6.32656887e-02,\n",
              "        6.36945736e-02,  6.66086953e-02,  6.73754858e-02,  6.79145766e-02,\n",
              "        7.05579800e-02,  7.24439281e-02,  7.26175472e-02,  7.26946909e-02,\n",
              "        7.41429206e-02,  7.64771075e-02,  7.73434400e-02,  7.75305129e-02,\n",
              "        7.77013996e-02,  7.77093702e-02,  7.87275219e-02,  8.01427017e-02,\n",
              "        8.12631194e-02,  8.13010950e-02,  8.19831234e-02,  8.28220068e-02,\n",
              "        8.29137663e-02,  8.34316958e-02,  8.46961242e-02,  8.65273072e-02,\n",
              "        8.77407743e-02,  9.03207478e-02,  9.29832734e-02,  9.34443581e-02,\n",
              "        9.76233612e-02,  1.01876146e-01,  1.03792518e-01,  1.05025567e-01,\n",
              "        1.05172593e-01,  1.06655156e-01,  1.07661882e-01,  1.09070688e-01,\n",
              "        1.09546412e-01,  1.11447472e-01,  1.11501066e-01,  1.16325220e-01,\n",
              "        1.17649278e-01,  1.22065325e-01,  1.23550104e-01,  1.24778590e-01,\n",
              "        1.30195616e-01,  1.32107428e-01,  1.32732453e-01,  1.36407959e-01,\n",
              "        1.37840132e-01,  1.40162892e-01,  1.43642569e-01,  1.49926859e-01,\n",
              "        1.51454366e-01,  1.55684128e-01,  1.57017275e-01,  1.57052663e-01,\n",
              "        1.59915914e-01,  1.62884704e-01,  1.67732865e-01,  1.70608779e-01,\n",
              "        1.70774394e-01,  1.73077114e-01,  1.74475096e-01,  1.75730727e-01,\n",
              "        1.77014503e-01,  1.83005664e-01,  1.93166315e-01,  1.94522362e-01,\n",
              "        1.98760740e-01,  2.07514867e-01,  2.14113189e-01,  2.18864776e-01,\n",
              "        2.26385962e-01,  2.28636716e-01,  2.41327748e-01,  2.63795543e-01])"
            ]
          },
          "metadata": {},
          "execution_count": 270
        }
      ]
    },
    {
      "cell_type": "code",
      "source": [
        ""
      ],
      "metadata": {
        "id": "d42BjE3cu4qm"
      },
      "execution_count": null,
      "outputs": []
    }
  ],
  "metadata": {
    "colab": {
      "collapsed_sections": [],
      "name": "main_EN.ipynb",
      "provenance": []
    },
    "kernelspec": {
      "display_name": "Python 3.8",
      "language": "python",
      "name": "python3"
    },
    "language_info": {
      "codemirror_mode": {
        "name": "ipython",
        "version": 3
      },
      "file_extension": ".py",
      "mimetype": "text/x-python",
      "name": "python",
      "nbconvert_exporter": "python",
      "pygments_lexer": "ipython3",
      "version": "3.8.2"
    },
    "accelerator": "GPU"
  },
  "nbformat": 4,
  "nbformat_minor": 0
}